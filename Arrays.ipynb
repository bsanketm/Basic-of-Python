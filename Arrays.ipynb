{
 "cells": [
  {
   "cell_type": "code",
   "execution_count": null,
   "metadata": {},
   "outputs": [],
   "source": [
    "# does not have inbult function Arrays\n",
    "#used to store multiple values in single variable\n",
    "# for storing a list of multiple items arrays can be used\n",
    "#n array can hold many values under a single name, and you can access the values by referring to an index number.\n",
    "# by the value of index number we can access any number of arrays\n"
   ]
  },
  {
   "cell_type": "code",
   "execution_count": 37,
   "metadata": {},
   "outputs": [],
   "source": [
    "cars = [\"ford\",\"volvo\",\"mahindra\"]"
   ]
  },
  {
   "cell_type": "code",
   "execution_count": 4,
   "metadata": {},
   "outputs": [
    {
     "data": {
      "text/plain": [
       "['ford', 'volvo', 'mahindra']"
      ]
     },
     "execution_count": 4,
     "metadata": {},
     "output_type": "execute_result"
    }
   ],
   "source": [
    "cars"
   ]
  },
  {
   "cell_type": "code",
   "execution_count": 5,
   "metadata": {},
   "outputs": [
    {
     "data": {
      "text/plain": [
       "3"
      ]
     },
     "execution_count": 5,
     "metadata": {},
     "output_type": "execute_result"
    }
   ],
   "source": [
    "len(cars) # for lenght of array"
   ]
  },
  {
   "cell_type": "code",
   "execution_count": 6,
   "metadata": {},
   "outputs": [
    {
     "name": "stdout",
     "output_type": "stream",
     "text": [
      "ford\n",
      "volvo\n",
      "mahindra\n"
     ]
    }
   ],
   "source": [
    "for x in cars:         # by the help of for loop we can print each element of array\n",
    "    print(x)"
   ]
  },
  {
   "cell_type": "code",
   "execution_count": 13,
   "metadata": {},
   "outputs": [
    {
     "data": {
      "text/plain": [
       "['ford', 'volvo', 'mahindra', 'tata']"
      ]
     },
     "execution_count": 13,
     "metadata": {},
     "output_type": "execute_result"
    }
   ],
   "source": [
    "cars.append('tata') # for adding element in the array\n",
    "cars"
   ]
  },
  {
   "cell_type": "code",
   "execution_count": 14,
   "metadata": {},
   "outputs": [
    {
     "data": {
      "text/plain": [
       "['volvo', 'mahindra', 'tata']"
      ]
     },
     "execution_count": 14,
     "metadata": {},
     "output_type": "execute_result"
    }
   ],
   "source": [
    "cars.pop(0) # for remove specific element by index number in .pop( add here index number)\n",
    "cars"
   ]
  },
  {
   "cell_type": "code",
   "execution_count": 15,
   "metadata": {},
   "outputs": [
    {
     "data": {
      "text/plain": [
       "['volvo', 'mahindra']"
      ]
     },
     "execution_count": 15,
     "metadata": {},
     "output_type": "execute_result"
    }
   ],
   "source": [
    "cars.remove(\"tata\")# remove by the element name .remove(Name of element in quote)\n",
    "cars"
   ]
  },
  {
   "cell_type": "code",
   "execution_count": 19,
   "metadata": {},
   "outputs": [
    {
     "data": {
      "text/plain": [
       "['volvo', 'mahindra']"
      ]
     },
     "execution_count": 19,
     "metadata": {},
     "output_type": "execute_result"
    }
   ],
   "source": [
    "a = cars.copy() # copy the list\n",
    "a"
   ]
  },
  {
   "cell_type": "code",
   "execution_count": 36,
   "metadata": {},
   "outputs": [
    {
     "data": {
      "text/plain": [
       "2"
      ]
     },
     "execution_count": 36,
     "metadata": {},
     "output_type": "execute_result"
    }
   ],
   "source": [
    "cars.count('mahindra') # Returns the number of elements with the specified value"
   ]
  },
  {
   "cell_type": "code",
   "execution_count": 46,
   "metadata": {},
   "outputs": [
    {
     "data": {
      "text/plain": [
       "['ford',\n",
       " 'volvo',\n",
       " 'maruti',\n",
       " 'maruti',\n",
       " 'mahindra',\n",
       " 'bmw',\n",
       " 'bm2',\n",
       " 'bmx',\n",
       " 'maruti']"
      ]
     },
     "execution_count": 46,
     "metadata": {},
     "output_type": "execute_result"
    }
   ],
   "source": [
    "#insert()\tAdds an element at the specified position\n",
    "cars.insert(5,'bmw')# add the index number where you want to insert comma in quotes add the name of element\n",
    "cars"
   ]
  },
  {
   "cell_type": "code",
   "execution_count": 83,
   "metadata": {},
   "outputs": [
    {
     "data": {
      "text/plain": [
       "['ford',\n",
       " 'volvo',\n",
       " 'maruti',\n",
       " 'maruti',\n",
       " 'mahindra',\n",
       " 'bmw',\n",
       " 'bm2',\n",
       " 'bmx',\n",
       " 'maruti',\n",
       " 'A']"
      ]
     },
     "execution_count": 83,
     "metadata": {},
     "output_type": "execute_result"
    }
   ],
   "source": [
    "#extend()\tAdd the elements of a list (or any iterable), to the end of the current list\n",
    "cars.extend(\"A\")# adds the single element at the end of list\n",
    "cars"
   ]
  },
  {
   "cell_type": "code",
   "execution_count": 88,
   "metadata": {},
   "outputs": [
    {
     "data": {
      "text/plain": [
       "0"
      ]
     },
     "execution_count": 88,
     "metadata": {},
     "output_type": "execute_result"
    }
   ],
   "source": [
    "#index()\tReturns the index of the first element with the specified value\n",
    "cars.index('ford')# fives index number of specific element"
   ]
  },
  {
   "cell_type": "code",
   "execution_count": 95,
   "metadata": {},
   "outputs": [
    {
     "data": {
      "text/plain": [
       "['volvo',\n",
       " 'maruti',\n",
       " 'maruti',\n",
       " 'maruti',\n",
       " 'mahindra',\n",
       " 'ford',\n",
       " 'bmx',\n",
       " 'bmw',\n",
       " 'bm2',\n",
       " 'A']"
      ]
     },
     "execution_count": 95,
     "metadata": {},
     "output_type": "execute_result"
    }
   ],
   "source": [
    "#reverse()\tReverses the order of the list\n",
    "cars.reverse()# reverse the order of elements\n",
    "cars"
   ]
  },
  {
   "cell_type": "code",
   "execution_count": 99,
   "metadata": {},
   "outputs": [
    {
     "data": {
      "text/plain": [
       "['A',\n",
       " 'bm2',\n",
       " 'bmw',\n",
       " 'bmx',\n",
       " 'ford',\n",
       " 'mahindra',\n",
       " 'maruti',\n",
       " 'maruti',\n",
       " 'maruti',\n",
       " 'volvo']"
      ]
     },
     "execution_count": 99,
     "metadata": {},
     "output_type": "execute_result"
    }
   ],
   "source": [
    "#sort()\tSorts the list\n",
    "cars.sort() # sort the  list by a to z\n",
    "cars"
   ]
  },
  {
   "cell_type": "code",
   "execution_count": 101,
   "metadata": {},
   "outputs": [
    {
     "data": {
      "text/plain": [
       "[]"
      ]
     },
     "execution_count": 101,
     "metadata": {},
     "output_type": "execute_result"
    }
   ],
   "source": [
    "#clear()\tRemoves all the elements from the list\n",
    "cars.clear() # remove all the elements of the list\n",
    "cars "
   ]
  }
 ],
 "metadata": {
  "kernelspec": {
   "display_name": "Python 3",
   "language": "python",
   "name": "python3"
  },
  "language_info": {
   "codemirror_mode": {
    "name": "ipython",
    "version": 3
   },
   "file_extension": ".py",
   "mimetype": "text/x-python",
   "name": "python",
   "nbconvert_exporter": "python",
   "pygments_lexer": "ipython3",
   "version": "3.8.5"
  }
 },
 "nbformat": 4,
 "nbformat_minor": 4
}
