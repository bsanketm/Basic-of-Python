{
  "nbformat": 4,
  "nbformat_minor": 0,
  "metadata": {
    "kernelspec": {
      "display_name": "Python 3",
      "language": "python",
      "name": "python3"
    },
    "language_info": {
      "codemirror_mode": {
        "name": "ipython",
        "version": 3
      },
      "file_extension": ".py",
      "mimetype": "text/x-python",
      "name": "python",
      "nbconvert_exporter": "python",
      "pygments_lexer": "ipython3",
      "version": "3.8.5"
    },
    "colab": {
      "name": "Tensorflow 1.ipynb",
      "provenance": []
    }
  },
  "cells": [
    {
      "cell_type": "code",
      "metadata": {
        "id": "VCzJgj_Ni5gZ",
        "colab": {
          "base_uri": "https://localhost:8080/"
        },
        "outputId": "e1bcf971-d5fe-445c-9a24-9fbfcfc93015"
      },
      "source": [
        "%tensorflow_version 1.x"
      ],
      "execution_count": null,
      "outputs": [
        {
          "output_type": "stream",
          "text": [
            "TensorFlow 1.x selected.\n"
          ],
          "name": "stdout"
        }
      ]
    },
    {
      "cell_type": "code",
      "metadata": {
        "id": "BfVOlgkOi5gh"
      },
      "source": [
        "import tensorflow as tf\n",
        "#print(tensorflow.__version__)"
      ],
      "execution_count": null,
      "outputs": []
    },
    {
      "cell_type": "markdown",
      "metadata": {
        "id": "NlEGFl_4i5gi"
      },
      "source": [
        "Tensorflow architecture works in three parts:\n",
        "\n",
        "Preprocessing the data\n",
        "\n",
        "Build the model\n",
        "\n",
        "Train and estimate the model\n",
        "# Tensor - multi dimensioanl array\n",
        "Tensor goes in it flows through a list of operations, and then it comes out the other side.\n",
        "It is called Tensorflow because it takes input as a multi-dimensional array, also known as tensors. "
      ]
    },
    {
      "cell_type": "code",
      "metadata": {
        "id": "behnDvNwhG63"
      },
      "source": [
        "#TensorFlow provides a collection of workflows to develop and train models\n",
        "#developed by an artificial intelligence researcher at Google named Francois Chollet"
      ],
      "execution_count": null,
      "outputs": []
    },
    {
      "cell_type": "code",
      "metadata": {
        "colab": {
          "base_uri": "https://localhost:8080/",
          "height": 35
        },
        "id": "_Y2_nSSbi5gj",
        "outputId": "18b91882-7bfe-4148-dd1b-75cd3e2a2a58"
      },
      "source": [
        "#Types of precision floating-point.\n",
        "\"\"\"\n",
        "tf.float16 half-precision floating-point.\n",
        "tf.float32 single bit floating-point.\n",
        "tf.float64 double bit floating-point.\n",
        "\"\"\""
      ],
      "execution_count": null,
      "outputs": [
        {
          "output_type": "execute_result",
          "data": {
            "application/vnd.google.colaboratory.intrinsic+json": {
              "type": "string"
            },
            "text/plain": [
              "'\\ntf.float16 half-precision floating-point.\\ntf.float32 single bit floating-point.\\ntf.float64 double bit floating-point.\\n'"
            ]
          },
          "metadata": {
            "tags": []
          },
          "execution_count": 7
        }
      ]
    },
    {
      "cell_type": "code",
      "metadata": {
        "colab": {
          "base_uri": "https://localhost:8080/",
          "height": 86
        },
        "id": "kZA-GM_s_F6v",
        "outputId": "ec70d639-2172-4959-ff0e-d4b6fbeded2a"
      },
      "source": [
        "# Data type in Tensor\n",
        "\"\"\"tf.float16`: 16-bit half-precision floating-point.\n",
        "* `tf.bfloat16`: 16-bit truncated floating-point.\n",
        "* `tf.complex64`: 64-bit single-precision complex.\n",
        "* `tf.int8`: 8-bit signed integer.\n",
        "* `tf.uint8`: 8-bit unsigned integer.\n",
        "* `tf.qint8`: Quantized 8-bit signed integer.\n",
        "* `tf.quint8`: Quantized 8-bit unsigned integer.\n",
        "* `tf.bool`: Boolean.\n",
        "* `tf.string`: String.\n",
        "* `tf.resource`: Handle to a mutable resource.\n",
        "* `tf.variant`: Values of arbitrary types.\"\"\"\n",
        "#float16,32,64;bfloat16,32,64,complex64,128,int8,16,32,64,uint8,16,32,64;qint8,16,32;quint8,16,32\n",
        "#Signed integer is a 32-bit datum that encodes in the range[-2147483648 to 2147483647]. \n",
        "#Unsigned integer is a 32-bit datum that encodes a nonnegative integer in the range [0 to 4294967295]\n"
      ],
      "execution_count": null,
      "outputs": [
        {
          "output_type": "execute_result",
          "data": {
            "application/vnd.google.colaboratory.intrinsic+json": {
              "type": "string"
            },
            "text/plain": [
              "'tf.float16`: 16-bit half-precision floating-point.\\n* `tf.bfloat16`: 16-bit truncated floating-point.\\n* `tf.complex64`: 64-bit single-precision complex.\\n* `tf.int8`: 8-bit signed integer.\\n* `tf.uint8`: 8-bit unsigned integer.\\n* `tf.bool`: Boolean.\\n* `tf.string`: String.\\n* `tf.qint8`: Quantized 8-bit signed integer.\\n* `tf.quint8`: Quantized 8-bit unsigned integer.\\n* `tf.resource`: Handle to a mutable resource.\\n* `tf.variant`: Values of arbitrary types.'"
            ]
          },
          "metadata": {
            "tags": []
          },
          "execution_count": 58
        }
      ]
    },
    {
      "cell_type": "markdown",
      "metadata": {
        "id": "z2khc5lti5gk"
      },
      "source": [
        "Three Type of Data in TF\n",
        "1. Constant \"\"\"Value remains Same e.g. a = 100\"\"\"\n",
        "2. PlaceHolder\n",
        "3. Variable \n",
        "# in Tensorflow variable allow us to add triangle parameter in the graph"
      ]
    },
    {
      "cell_type": "code",
      "metadata": {
        "colab": {
          "base_uri": "https://localhost:8080/",
          "height": 69
        },
        "id": "THUWt7ja6BVc",
        "outputId": "4c1e12f5-e66f-449e-cc55-61168f7e66f7"
      },
      "source": [
        "#Constant\n",
        "\"\"\"A constant is a tensor whose value cannot be changed at all.\n",
        "a takes a constant value 100 and hence the shape is None.\n",
        " You can declare any dimensional tensors by stacking up tensors on an existing tensor using the tf.\n",
        " stack function which can be seen from the example for nD Tensor.\"\"\""
      ],
      "execution_count": null,
      "outputs": [
        {
          "output_type": "execute_result",
          "data": {
            "application/vnd.google.colaboratory.intrinsic+json": {
              "type": "string"
            },
            "text/plain": [
              "'A constant is a tensor whose value cannot be changed at all.\\na takes a constant value 100 and hence the shape is None.\\n You can declare any dimensional tensors by stacking up tensors on an existing tensor using the tf.\\n stack function which can be seen from the example for nD Tensor.'"
            ]
          },
          "metadata": {
            "tags": []
          },
          "execution_count": 43
        }
      ]
    },
    {
      "cell_type": "code",
      "metadata": {
        "id": "PophaXVI6oBi"
      },
      "source": [
        "#Variable\n",
        "\"\"\"A variable is a tensor whose value is initialised and then typically changed as the program runs. \n",
        "In TF variables are manipulated by the tf.Variable class.\n",
        " The best way to create a variable is by calling the tf.get_variable function. \n",
        "This function requires you to specify the Variable’s name.\n",
        "This name will be used by other replicas to access the same variable, \n",
        "as well as to name this variable’s value when check pointing and exporting models. \n",
        "tf.get_variable also allows us to reuse a previously created variable of the same name, making it easy to define \n",
        "models which reuse layers.\"\"\"\n"
      ],
      "execution_count": null,
      "outputs": []
    },
    {
      "cell_type": "code",
      "metadata": {
        "colab": {
          "base_uri": "https://localhost:8080/",
          "height": 52
        },
        "id": "yiKz7TyXi5gj",
        "outputId": "f48b4b0c-225a-421f-accd-3c9ed10f0af3"
      },
      "source": [
        "#Placeholder\n",
        "\"\"\"Variables must be initialized before using. \n",
        "A placeholder is a node (same as a variable) \n",
        "whose value can be initialized in the future.\n",
        "These nodes basically output the value assigned to them during runtime.\n",
        "\"\"\"\n",
        "# Tensorflow Placeholder is the promsise to provide the value later  "
      ],
      "execution_count": null,
      "outputs": [
        {
          "output_type": "execute_result",
          "data": {
            "application/vnd.google.colaboratory.intrinsic+json": {
              "type": "string"
            },
            "text/plain": [
              "'Variables must be initialized before using. \\nA placeholder is a node (same as a variable) \\nwhose value can be initialized in the future.\\nThese nodes basically output the value assigned to them during runtime.\\n'"
            ]
          },
          "metadata": {
            "tags": []
          },
          "execution_count": 42
        }
      ]
    },
    {
      "cell_type": "code",
      "metadata": {
        "id": "M7qNlg0Ki5gk",
        "colab": {
          "base_uri": "https://localhost:8080/"
        },
        "outputId": "6a575415-14a9-4c46-bdfb-6e30c4ac941f"
      },
      "source": [
        "hello = tf.constant(\"Hello Analyst\")\n",
        "hello"
      ],
      "execution_count": null,
      "outputs": [
        {
          "output_type": "execute_result",
          "data": {
            "text/plain": [
              "<tf.Tensor 'Const:0' shape=() dtype=string>"
            ]
          },
          "metadata": {
            "tags": []
          },
          "execution_count": 4
        }
      ]
    },
    {
      "cell_type": "code",
      "metadata": {
        "colab": {
          "base_uri": "https://localhost:8080/",
          "height": 35
        },
        "id": "zm2osGvSi5gk",
        "outputId": "bdc81e9a-ba4f-4b83-ad08-42b0ca4a517a"
      },
      "source": [
        "hello # it will not give o/p\n",
        "\"\"\"\n",
        "IN TF everything should be run in session\n",
        "\"\"\""
      ],
      "execution_count": null,
      "outputs": [
        {
          "output_type": "execute_result",
          "data": {
            "application/vnd.google.colaboratory.intrinsic+json": {
              "type": "string"
            },
            "text/plain": [
              "'\\nIN TF everything should be run in session\\n'"
            ]
          },
          "metadata": {
            "tags": []
          },
          "execution_count": 5
        }
      ]
    },
    {
      "cell_type": "code",
      "metadata": {
        "colab": {
          "base_uri": "https://localhost:8080/"
        },
        "id": "WCAK1PPti5gl",
        "outputId": "2495067d-6b5f-4ec3-b681-fe4de8195426"
      },
      "source": [
        "#with tf.Session() as sess:\n",
        "with tf.Session() as sess:\n",
        "    output = sess.run(hello)\n",
        "    print(output)"
      ],
      "execution_count": null,
      "outputs": [
        {
          "output_type": "stream",
          "text": [
            "b'Hello Analyst'\n"
          ],
          "name": "stdout"
        }
      ]
    },
    {
      "cell_type": "code",
      "metadata": {
        "id": "yYLPvJUgr37-"
      },
      "source": [
        "# Few Important Activation are function are below from Relu to tanh"
      ],
      "execution_count": null,
      "outputs": []
    },
    {
      "cell_type": "code",
      "metadata": {
        "id": "_S4SDrhloSkY"
      },
      "source": [
        "#Relu function\n",
        "\"\"\" The rectified linear activation function or ReLU for short is a piecewise linear function that will output the input directly if it is positive,\n",
        " otherwise, it will output zero.\n",
        " Relu activates node if input is above certain quantity\n",
        " if input is 0 then O/p is 0. but when input raises above a certain threshold, \n",
        " it has a linear relationship with dependent variable\n",
        "  Mathematical representation:\n",
        "            0 if x<=0\n",
        "  f(x) = {\n",
        "            x if x>0\n",
        "\"\"\""
      ],
      "execution_count": null,
      "outputs": []
    },
    {
      "cell_type": "code",
      "metadata": {
        "colab": {
          "base_uri": "https://localhost:8080/"
        },
        "id": "xQGSdQXD0yDO",
        "outputId": "721a7951-6171-4970-c5fd-062f7fafc52b"
      },
      "source": [
        "import numpy as np\n",
        "def relu_a(x):\n",
        "  \n",
        "  return np.maximum(0,x)\n",
        "#relu_a()\n",
        "a =[-4,-2,0,7999]\n",
        "print (relu_a(a))\n"
      ],
      "execution_count": null,
      "outputs": [
        {
          "output_type": "stream",
          "text": [
            "[   0    0    0 7999]\n"
          ],
          "name": "stdout"
        }
      ]
    },
    {
      "cell_type": "code",
      "metadata": {
        "colab": {
          "base_uri": "https://localhost:8080/",
          "height": 52
        },
        "id": "j2TlCgOCv2o3",
        "outputId": "e849fd83-0ffb-43a7-b3bd-cc3300a0dbb7"
      },
      "source": [
        "#Softmax\n",
        "\"\"\"\n",
        "The softmax function is a function that turns a vector of K real values into a vector of K real values that sum to 1. \n",
        "The input values can be any type of numbers, but the softmax transforms them into values between 0 and 1, \n",
        "so that they can be interpreted as probabilities. \n",
        "If one of the inputs is small or negative, the softmax turns it into a small probability,  near to 0\n",
        "and if an input is large, then it turns it into a large probability near to 1, but it will always remain between 0 and 1.\n",
        "\"\"\"\n",
        "#when to use softmax function\n",
        "\"\"\"\n",
        "When we have 4-5 classes of output that time softmax is useful cause it gives probabilities of it.\n",
        "Also useful for finding out the class whose probability is maximum\"\"\"\n",
        "\"\"\"\n",
        "Softmax function output layers are classifiers\n",
        "Mathematical Notation:\n",
        "sigma(z)j = e^zj / summation of k=1 to K of e^zk ..... for j = 1.....k\n",
        "\n",
        "Softmax is better to use when we have classes more than 2\"\"\"\n"
      ],
      "execution_count": null,
      "outputs": [
        {
          "output_type": "execute_result",
          "data": {
            "application/vnd.google.colaboratory.intrinsic+json": {
              "type": "string"
            },
            "text/plain": [
              "'\\nSoftmax function output layers are classifiers\\nMathematical Notation:\\nsigma(z)j = e^zj / summation of k=1 to K of e^zk ..... for j = 1.....k\\n\\nSoftmax is better to use when we have classes more than 2'"
            ]
          },
          "metadata": {
            "tags": []
          },
          "execution_count": 61
        }
      ]
    },
    {
      "cell_type": "code",
      "metadata": {
        "colab": {
          "base_uri": "https://localhost:8080/"
        },
        "id": "VrIVWZm_BWlb",
        "outputId": "39db6361-9270-4f09-a77e-76d8dcb4d681"
      },
      "source": [
        "#Scores = [12,8,.3,-10,10]\n",
        "Scores = [-50,-55]\n",
        "import numpy as np\n",
        "def softmax(x):\n",
        "    return np.exp(x)/np.sum(np.exp(x),axis  = 0)\n",
        "print(softmax(Scores))\n",
        "sum(softmax(Scores))"
      ],
      "execution_count": null,
      "outputs": [
        {
          "output_type": "stream",
          "text": [
            "[0.99330715 0.00669285]\n"
          ],
          "name": "stdout"
        },
        {
          "output_type": "execute_result",
          "data": {
            "text/plain": [
              "1.0"
            ]
          },
          "metadata": {
            "tags": []
          },
          "execution_count": 17
        }
      ]
    },
    {
      "cell_type": "code",
      "metadata": {
        "id": "4dGlz8vWi5gm"
      },
      "source": [
        "#Linear or Identity\n",
        "\"\"\"A Linear transform is basically the identity function, where the dependent \n",
        "varible has a \n",
        "direct proportional relationship with the independent variable.\n",
        "i.e. In Practical terms it means the function passes the signal through\n",
        " unchanged\n",
        "Mathematical Representation : f(x) = x\n",
        "\"\"\""
      ],
      "execution_count": null,
      "outputs": []
    },
    {
      "cell_type": "code",
      "metadata": {
        "id": "JqE8fSZq03HY"
      },
      "source": [
        "# Threshold Function or unit step\n",
        "\"\"\"O/p of unit step function is either 1 or 0.\n",
        "Depends on threshold value defined by the user\n",
        "Mathematical Representation:\n",
        "          0 if 0>x\n",
        "f(x) = {\n",
        "          1 if x>=0\n",
        "\"\"\""
      ],
      "execution_count": null,
      "outputs": []
    },
    {
      "cell_type": "code",
      "metadata": {
        "id": "l96-X9R-i5gm"
      },
      "source": [
        "# Sigmoid Function\n",
        "\"\"\"The sigmoid activation function, also called the logistic function.\n",
        "Traditionally it was popular as a activation function for neural networks. \n",
        "The input to the function is transformed into a value between 0 to 1. \n",
        "Inputs that are much larger than 1.0 are transformed to the value 1.0,\n",
        " similarly, values much smaller than 0.0 are snapped to 0.0.\n",
        "\"\"\"\n",
        "\"\"\"\n",
        "Sigmiod Function is the machine that converts independent variables\n",
        "most of the o/p will be very close to 0 or 1\n",
        "Mathematical Representation\n",
        "f(x) = 1/ 1+e ^(-B*x) #B is bita \n",
        " \"\"\""
      ],
      "execution_count": null,
      "outputs": []
    },
    {
      "cell_type": "code",
      "metadata": {
        "id": "YHatIDAJyB-Q"
      },
      "source": [
        "import numpy as np\n",
        "#from tf import sigmoid_\n",
        "def sigmoid_(a):\n",
        "  return 1/(1+np.exp(-a))\n",
        "     "
      ],
      "execution_count": null,
      "outputs": []
    },
    {
      "cell_type": "code",
      "metadata": {
        "colab": {
          "base_uri": "https://localhost:8080/"
        },
        "id": "zspjtDz6psF-",
        "outputId": "6008aa5f-0a7f-4b04-8242-581e5318e4de"
      },
      "source": [
        "#sigmoid_\n",
        "#a = [1,2,4,0,5,6,7]\n",
        "a = [1,2,100,-1,-2,-100]\n",
        "for i in a:\n",
        "  print (sigmoid_(i))"
      ],
      "execution_count": null,
      "outputs": [
        {
          "output_type": "stream",
          "text": [
            "0.7310585786300049\n",
            "0.8807970779778823\n",
            "1.0\n",
            "0.2689414213699951\n",
            "0.11920292202211755\n",
            "3.7200759760208356e-44\n"
          ],
          "name": "stdout"
        }
      ]
    },
    {
      "cell_type": "code",
      "metadata": {
        "id": "deQiKT9Ki5gm"
      },
      "source": [
        "#Tanh\n",
        "\"\"\"is A hyperbolic trignometric function\n",
        "Tanh is range between -1 to 1.\n",
        "it deals with -ve number easily.\n",
        "Mathematical representation\n",
        "f(x) =. tanh(x)\n",
        "\"\"\""
      ],
      "execution_count": null,
      "outputs": []
    },
    {
      "cell_type": "code",
      "metadata": {
        "id": "HVr13K70i5gm",
        "colab": {
          "base_uri": "https://localhost:8080/",
          "height": 179
        },
        "outputId": "cea9a61d-98d3-4dcc-ef55-ce668274ea1a"
      },
      "source": [
        "a = (e^a - e^-a)/e^a + e^-a\n",
        "tanh(a)"
      ],
      "execution_count": null,
      "outputs": [
        {
          "output_type": "error",
          "ename": "NameError",
          "evalue": "ignored",
          "traceback": [
            "\u001b[0;31m---------------------------------------------------------------------------\u001b[0m",
            "\u001b[0;31mNameError\u001b[0m                                 Traceback (most recent call last)",
            "\u001b[0;32m<ipython-input-39-a5ea05f2a4ac>\u001b[0m in \u001b[0;36m<module>\u001b[0;34m()\u001b[0m\n\u001b[0;32m----> 1\u001b[0;31m \u001b[0ma\u001b[0m \u001b[0;34m=\u001b[0m \u001b[0;34m(\u001b[0m\u001b[0me\u001b[0m\u001b[0;34m^\u001b[0m\u001b[0ma\u001b[0m \u001b[0;34m-\u001b[0m \u001b[0me\u001b[0m\u001b[0;34m^\u001b[0m\u001b[0;34m-\u001b[0m\u001b[0ma\u001b[0m\u001b[0;34m)\u001b[0m\u001b[0;34m/\u001b[0m\u001b[0me\u001b[0m\u001b[0;34m^\u001b[0m\u001b[0ma\u001b[0m \u001b[0;34m+\u001b[0m \u001b[0me\u001b[0m\u001b[0;34m^\u001b[0m\u001b[0;34m-\u001b[0m\u001b[0ma\u001b[0m\u001b[0;34m\u001b[0m\u001b[0;34m\u001b[0m\u001b[0m\n\u001b[0m\u001b[1;32m      2\u001b[0m \u001b[0mtanh\u001b[0m\u001b[0;34m(\u001b[0m\u001b[0ma\u001b[0m\u001b[0;34m)\u001b[0m\u001b[0;34m\u001b[0m\u001b[0;34m\u001b[0m\u001b[0m\n",
            "\u001b[0;31mNameError\u001b[0m: name 'e' is not defined"
          ]
        }
      ]
    },
    {
      "cell_type": "code",
      "metadata": {
        "colab": {
          "base_uri": "https://localhost:8080/",
          "height": 86
        },
        "id": "OMrnlaLHH0Pt",
        "outputId": "c6240e2f-de60-4434-e2b5-3b58184f858c"
      },
      "source": [
        "#RaggedTensor\n",
        "\"\"\"\n",
        "A `RaggedTensor` is a tensor with one or more *ragged dimensions*, which are\n",
        "dimensions whose slices may have different lengths.\n",
        "The outermost dimension of a `RaggedTensor` is always uniform,\n",
        "since it consists of a single slice (and so there is no possibility for\n",
        "differing slice lengths).\n",
        "The total number of dimensions in a `RaggedTensor` is called its *rank*,\n",
        "and the number of ragged dimensions in a `RaggedTensor` is called its\n",
        "*ragged-rank*.\"\"\""
      ],
      "execution_count": null,
      "outputs": [
        {
          "output_type": "execute_result",
          "data": {
            "application/vnd.google.colaboratory.intrinsic+json": {
              "type": "string"
            },
            "text/plain": [
              "'\\nA `RaggedTensor` is a tensor with one or more *ragged dimensions*, which are\\ndimensions whose slices may have different lengths.\\nThe outermost dimension of a `RaggedTensor` is always uniform,\\nsince it consists of a single slice (and so there is no possibility for\\ndiffering slice lengths).\\nThe total number of dimensions in a `RaggedTensor` is called its *rank*,\\nand the number of ragged dimensions in a `RaggedTensor` is called its\\n*ragged-rank*.'"
            ]
          },
          "metadata": {
            "tags": []
          },
          "execution_count": 75
        }
      ]
    },
    {
      "cell_type": "code",
      "metadata": {
        "id": "_vm72Ll__A18",
        "colab": {
          "base_uri": "https://localhost:8080/"
        },
        "outputId": "ccf57574-7700-4239-b274-b33958ab75cf"
      },
      "source": [
        "#Calculations using TF\n",
        "a1 = tf.constant([1, 2, 3])\n",
        "a2 = tf.constant([3, 4, 5])\n",
        "a3 = a1 + a2 \n",
        "with tf.Session() as session:\n",
        "  print(session.run(a3))\n"
      ],
      "execution_count": null,
      "outputs": [
        {
          "output_type": "stream",
          "text": [
            "[4 6 8]\n"
          ],
          "name": "stdout"
        }
      ]
    },
    {
      "cell_type": "code",
      "metadata": {
        "id": "tdzFkCU5i5gn",
        "colab": {
          "base_uri": "https://localhost:8080/"
        },
        "outputId": "f11aa94d-00c5-45ab-a74f-f86ff32c5311"
      },
      "source": [
        "a4 = a1 - a2\n",
        "with tf.Session() as session:\n",
        "  print(session.run(a4))"
      ],
      "execution_count": null,
      "outputs": [
        {
          "output_type": "stream",
          "text": [
            "[-2 -2 -2]\n"
          ],
          "name": "stdout"
        }
      ]
    },
    {
      "cell_type": "code",
      "metadata": {
        "colab": {
          "base_uri": "https://localhost:8080/"
        },
        "id": "OiKqGSZi5_SE",
        "outputId": "b652772b-d9cf-4335-8570-245f0658eb05"
      },
      "source": [
        "a5 = a1 * a2 # (tf supports primitive operators)\n",
        "\n",
        "with tf.Session() as session:\n",
        "  print(session.run(a5))\n",
        "   "
      ],
      "execution_count": null,
      "outputs": [
        {
          "output_type": "stream",
          "text": [
            "[ 3  8 15]\n"
          ],
          "name": "stdout"
        }
      ]
    },
    {
      "cell_type": "code",
      "metadata": {
        "colab": {
          "base_uri": "https://localhost:8080/"
        },
        "id": "YHkExil3GE0J",
        "outputId": "20b3cd36-a02a-44ff-f666-532d2599f28e"
      },
      "source": [
        "a6 = a1/a2\n",
        "with tf.Session() as session:\n",
        "  print(a6.eval()) #eval() can be used instead of session.run() to compute the results of a particular variable.\n",
        "  "
      ],
      "execution_count": null,
      "outputs": [
        {
          "output_type": "stream",
          "text": [
            "[0.33333333 0.5        0.6       ]\n"
          ],
          "name": "stdout"
        }
      ]
    },
    {
      "cell_type": "code",
      "metadata": {
        "id": "0Y-_d-ucG1Dk"
      },
      "source": [
        "In TF We can perform all necessary mathematical operation required for matrix calculation."
      ],
      "execution_count": null,
      "outputs": []
    }
  ]
}